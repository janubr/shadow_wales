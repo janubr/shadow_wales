{
  "nbformat": 4,
  "nbformat_minor": 0,
  "metadata": {
    "colab": {
      "name": "project1.ipynb",
      "provenance": [],
      "authorship_tag": "ABX9TyPMii/5b+lzfOmwLRJFddEB",
      "include_colab_link": true
    },
    "kernelspec": {
      "name": "python3",
      "display_name": "Python 3"
    },
    "language_info": {
      "name": "python"
    }
  },
  "cells": [
    {
      "cell_type": "markdown",
      "metadata": {
        "id": "view-in-github",
        "colab_type": "text"
      },
      "source": [
        "<a href=\"https://colab.research.google.com/github/janubr/shadow_wales/blob/main/project1.ipynb\" target=\"_parent\"><img src=\"https://colab.research.google.com/assets/colab-badge.svg\" alt=\"Open In Colab\"/></a>"
      ]
    },
    {
      "cell_type": "markdown",
      "metadata": {
        "id": "tNVnanHLSYLt"
      },
      "source": [
        "### school administarion tool"
      ]
    },
    {
      "cell_type": "code",
      "metadata": {
        "colab": {
          "base_uri": "https://localhost:8080/"
        },
        "id": "6be-JLQ65yhV",
        "outputId": "cf592b59-7686-4860-c1de-e18836ae4170"
      },
      "source": [
        "#project 1: Basic school administration tool\n",
        "import csv\n",
        "\n",
        "def write_into_csv(info_list):\n",
        "    with open('student_info.csv', 'w+', newline='')as csv_file:\n",
        "        writer = csv.writer(csv_file)\n",
        "\n",
        "        if csv_file.tell() == 0:\n",
        "            writer.writerow([\"Name\", \"Age\", \"Contact number\", \"E-Mail ID\"])\n",
        "        \n",
        "        writer.writerow(info_list)\n",
        "\n",
        "if __name__ == '__main__':\n",
        "     condition = True\n",
        "     student_num = 1\n",
        "\n",
        "     while(condition):\n",
        "        student_info = input(\"enter student information for student #{} in the following format (Name Age Contact_Number E-mail_ID): \".format(student_num))\n",
        "        \n",
        "\n",
        "        # split\n",
        "        student_info_list = student_info.split(' ')\n",
        "\n",
        "        print(\"Entered split up information is: \" + str(student_info_list))\n",
        "  \n",
        "        print(\"\\nThe entered information is -\\nName: {}\\nAge: {}\\nContact_number: {}\\nE-Mail ID: {}\"\n",
        "                .format(student_info_list[0], student_info_list[1], student_info_list[2], student_info_list[3]))\n",
        "        \n",
        "        choice_check = input(\"Is the entered information correct? (yes/n0):\")\n",
        "\n",
        "        if choice_check == \"yes\":\n",
        "             write_into_csv(student_info_list)\n",
        "\n",
        "             condition_check=input(\"Enter (yes/no) if you want to enter information for another student: \")\n",
        "             if condition_check == \"yes\":\n",
        "                condition = True\n",
        "                student_num = student_num + 1\n",
        "             elif condition_check == \"no\":\n",
        "                condition = False\n",
        "        elif choice_check == \"no\":\n",
        "            print(\"\\nplease re-enter the values!\")      \n",
        "    \n",
        "        \n"
      ],
      "execution_count": 11,
      "outputs": [
        {
          "output_type": "stream",
          "text": [
            "enter student information for student #1 in the following format (Name Age Contact_Number E-mail_ID): janani  18 8643267876 janu142@gmail.com\n",
            "Entered split up information is: ['janani', '', '18', '8643267876', 'janu142@gmail.com']\n",
            "\n",
            "The entered information is -\n",
            "Name: janani\n",
            "Age: \n",
            "Contact_number: 18\n",
            "E-Mail ID: 8643267876\n",
            "Is the entered information correct? (yes/n0):yes\n",
            "Enter (yes/no) if you want to enter information for another student: no\n"
          ],
          "name": "stdout"
        }
      ]
    }
  ]
}