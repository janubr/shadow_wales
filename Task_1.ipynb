{
  "nbformat": 4,
  "nbformat_minor": 0,
  "metadata": {
    "colab": {
      "name": "Task 1",
      "provenance": [],
      "collapsed_sections": [],
      "authorship_tag": "ABX9TyPqbVad37BXCx9AUgubAWSF",
      "include_colab_link": true
    },
    "kernelspec": {
      "name": "python3",
      "display_name": "Python 3"
    },
    "language_info": {
      "name": "python"
    }
  },
  "cells": [
    {
      "cell_type": "markdown",
      "metadata": {
        "id": "view-in-github",
        "colab_type": "text"
      },
      "source": [
        "<a href=\"https://colab.research.google.com/github/janubr/shadow_wales/blob/main/Task_1.ipynb\" target=\"_parent\"><img src=\"https://colab.research.google.com/assets/colab-badge.svg\" alt=\"Open In Colab\"/></a>"
      ]
    },
    {
      "cell_type": "markdown",
      "metadata": {
        "id": "Kiwd47W1h5Ze"
      },
      "source": [
        "# Area of the circle"
      ]
    },
    {
      "cell_type": "code",
      "metadata": {
        "colab": {
          "base_uri": "https://localhost:8080/"
        },
        "id": "hNM5WSrOiCPa",
        "outputId": "fae12536-47e9-4b10-ec70-8259cf58d000"
      },
      "source": [
        "from math import pi\n",
        "r = float(input (\"Input the radius of circle:\"))\n",
        "print(\" The Area of the circle with radius 1.1. is:\"+str(pi*r**2))"
      ],
      "execution_count": null,
      "outputs": [
        {
          "output_type": "stream",
          "text": [
            "Input the radius of circle:1.1\n",
            " The Area of the circle with radius 1.1 is:3.8013271108436504\n"
          ],
          "name": "stdout"
        }
      ]
    },
    {
      "cell_type": "markdown",
      "metadata": {
        "id": "Yxoz2zswjAGT"
      },
      "source": [
        "### Extension of the file"
      ]
    },
    {
      "cell_type": "code",
      "metadata": {
        "colab": {
          "base_uri": "https://localhost:8080/"
        },
        "id": "0RBJ_UKkh_-f",
        "outputId": "9b8ea796-b3a0-442c-ac65-b4ee84fb3703"
      },
      "source": [
        "filename =input(\"input thefilename:\")\n",
        "f_extns=filename.split(\".\")\n",
        "print(\"The extension of the fileis:\"+(f_extns[-1]))"
      ],
      "execution_count": null,
      "outputs": [
        {
          "output_type": "stream",
          "text": [
            "input thefilename:abc.python\n",
            "The extension of the fileis:python\n"
          ],
          "name": "stdout"
        }
      ]
    }
  ]
}