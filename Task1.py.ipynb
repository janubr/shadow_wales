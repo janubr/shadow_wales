{
  "nbformat": 4,
  "nbformat_minor": 0,
  "metadata": {
    "colab": {
      "name": "Task1.ipynb",
      "provenance": [],
      "authorship_tag": "ABX9TyPoX+KrmVrCvBD1Nkz7pDSF",
      "include_colab_link": true
    },
    "kernelspec": {
      "name": "python3",
      "display_name": "Python 3"
    },
    "language_info": {
      "name": "python"
    }
  },
  "cells": [
    {
      "cell_type": "markdown",
      "metadata": {
        "id": "view-in-github",
        "colab_type": "text"
      },
      "source": [
        "<a href=\"https://colab.research.google.com/github/janubr/shadow_wales/blob/main/Task1.py.ipynb\" target=\"_parent\"><img src=\"https://colab.research.google.com/assets/colab-badge.svg\" alt=\"Open In Colab\"/></a>"
      ]
    },
    {
      "cell_type": "markdown",
      "metadata": {
        "id": "HE2349D7-d_I"
      },
      "source": [
        " Descending order of frequency"
      ]
    },
    {
      "cell_type": "code",
      "metadata": {
        "colab": {
          "base_uri": "https://localhost:8080/"
        },
        "id": "8QE34GcV5oWN",
        "outputId": "cd17ee2c-1dc6-4bc2-a4c0-249547155c2e"
      },
      "source": [
        "X= input('please enter a string:')\n",
        "def most_frequent(string):\n",
        "    d = dict()\n",
        "    for key in string:\n",
        "        if key not in d:\n",
        "            d[key] = 1\n",
        "        else:\n",
        "            d[key] += 1\n",
        "    return d\n",
        "    \n",
        "print (most_frequent(X))"
      ],
      "execution_count": null,
      "outputs": [
        {
          "output_type": "stream",
          "text": [
            "please enter a string:janani\n",
            "{'j': 1, 'a': 2, 'n': 2, 'i': 1}\n"
          ],
          "name": "stdout"
        }
      ]
    }
  ]
}